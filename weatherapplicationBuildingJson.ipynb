{
  "nbformat": 4,
  "nbformat_minor": 0,
  "metadata": {
    "colab": {
      "provenance": [],
      "authorship_tag": "ABX9TyOHpc+UZGrQJAoqUuVuFOFn",
      "include_colab_link": true
    },
    "kernelspec": {
      "name": "python3",
      "display_name": "Python 3"
    },
    "language_info": {
      "name": "python"
    }
  },
  "cells": [
    {
      "cell_type": "markdown",
      "metadata": {
        "id": "view-in-github",
        "colab_type": "text"
      },
      "source": [
        "<a href=\"https://colab.research.google.com/github/Poojads-udupi/AI--Residency-Gradio/blob/main/weatherapplicationBuildingJson.ipynb\" target=\"_parent\"><img src=\"https://colab.research.google.com/assets/colab-badge.svg\" alt=\"Open In Colab\"/></a>"
      ]
    },
    {
      "cell_type": "code",
      "source": [],
      "metadata": {
        "id": "YZoRjw3Tec9L"
      },
      "execution_count": null,
      "outputs": []
    },
    {
      "cell_type": "code",
      "execution_count": null,
      "metadata": {
        "id": "0LNhJl8iR7mn",
        "colab": {
          "base_uri": "https://localhost:8080/"
        },
        "outputId": "a527445f-ce3a-4ae4-b498-459f2367496a"
      },
      "outputs": [
        {
          "output_type": "stream",
          "name": "stdout",
          "text": [
            "{'coord': {'lon': 55.3047, 'lat': 25.2582}, 'weather': [{'id': 800, 'main': 'Clear', 'description': 'clear sky', 'icon': '01d'}], 'base': 'stations', 'main': {'temp': 36.96, 'feels_like': 41.53, 'temp_min': 36.96, 'temp_max': 37.14, 'pressure': 1001, 'humidity': 41, 'sea_level': 1001, 'grnd_level': 1001}, 'visibility': 7000, 'wind': {'speed': 3.09, 'deg': 210}, 'clouds': {'all': 7}, 'dt': 1748672519, 'sys': {'type': 1, 'id': 7537, 'country': 'AE', 'sunrise': 1748654929, 'sunset': 1748703867}, 'timezone': 14400, 'id': 292223, 'name': 'Dubai', 'cod': 200}\n"
          ]
        }
      ],
      "source": [
        "import requests\n",
        "response=requests.get(\"https://api.openweathermap.org/data/2.5/weather?q=Dubai&appid=2d6fee22e65fde683a5661079e6297dd&units=metric\")\n",
        "print(response.json())"
      ]
    },
    {
      "cell_type": "code",
      "source": [
        "import requests\n",
        "def get_weather(city):\n",
        "    url= f\"https://api.openweathermap.org/data/2.5/weather?q={city}&appid=2d6fee22e65fde683a5661079e6297dd&units=metric\"\n",
        "    try:\n",
        "        response=requests.get(url)\n",
        "        weather_data= response.json()\n",
        "\n",
        "        temperature=weather_data[\"main\"][\"temp\"]\n",
        "        min_temperature=weather_data[\"main\"][\"temp_min\"]\n",
        "        max_temperature=weather_data[\"main\"][\"temp_max\"]\n",
        "        humidity=weather_data[\"main\"][\"humidity\"]\n",
        "       # wind_speed=weather_data[\"main\"][\"wind_speed\"]\n",
        "\n",
        "        print(f\"weather in {city}\")\n",
        "        print(f\"Temperature:{temperature}°C\")\n",
        "        print(f\"min_temperature:{min_temperature}°C\")\n",
        "        print(f\"max_temperature:{max_temperature}°C\")\n",
        "        print(f\"humidiyt:{humidity}\")\n",
        "       # print(f\"wind_ speed:{wind_speed}m/s\")\n",
        "    except requests.exceptions.RequestException:\n",
        "       print(\"error occured\")\n",
        "\n",
        "city_name=input(\"enter the city name:\")\n",
        "get_weather(city_name)\n",
        "\n",
        "\n",
        "\n",
        "\n"
      ],
      "metadata": {
        "colab": {
          "base_uri": "https://localhost:8080/"
        },
        "id": "LrNXhv1TFA-A",
        "outputId": "50577c0f-fd2f-4e46-ff34-1764410aba20"
      },
      "execution_count": null,
      "outputs": [
        {
          "output_type": "stream",
          "name": "stdout",
          "text": [
            "enter the city name:udupi\n",
            "weather in udupi\n",
            "Temperature:27.61°C\n",
            "min_temperature:27.61°C\n",
            "max_temperature:27.61°C\n",
            "humidiyt:77\n"
          ]
        }
      ]
    },
    {
      "cell_type": "code",
      "source": [
        "import gradio as gr\n",
        "\n",
        "with gr.Blocks() as demo:\n",
        "    gr.HTML(\"\"\"\n",
        "    <style id=\"theme-style\">\n",
        "        body {\n",
        "            background-color: #e8f5e9;\n",
        "            color: #000;\n",
        "        }\n",
        "    </style>\n",
        "\n",
        "    <script>\n",
        "        function toggleDarkMode() {\n",
        "            const style = document.getElementById(\"theme-style\");\n",
        "            if (style.innerHTML.includes(\"e8f5e9\")) {\n",
        "                style.innerHTML = `\n",
        "                    body {\n",
        "                        background-color: #121212;\n",
        "                        color: #ffffff;\n",
        "                    }\n",
        "                    label, select, input, textarea, button {\n",
        "                        background-color: #1e1e1e;\n",
        "                        color: #ffffff;\n",
        "                        border-color: #555;\n",
        "                    }\n",
        "                `;\n",
        "            } else {\n",
        "                style.innerHTML = `\n",
        "                    body {\n",
        "                        background-color: #e8f5e9;\n",
        "                        color: #000;\n",
        "                    }\n",
        "                `;\n",
        "            }\n",
        "        }\n",
        "    </script>\n",
        "    \"\"\")\n",
        "\n",
        "    gr.Markdown(\"## 🌓 Toggle Theme Example\")\n",
        "    gr.Button(\"🌙 Toggle Dark Mode\", elem_id=\"toggle-btn\").click(None, _js=\"toggleDarkMode\")\n",
        "\n",
        "    gr.Dropdown([\"One\", \"Two\"], label=\"Choose Option\")\n",
        "    gr.Textbox(label=\"Say something\")\n",
        "    gr.Button(\"Submit\")\n",
        "\n",
        "demo.launch()\n",
        "\n",
        "\n",
        "\n"
      ],
      "metadata": {
        "colab": {
          "base_uri": "https://localhost:8080/",
          "height": 211
        },
        "id": "vypICbz2LQMt",
        "outputId": "2d77dcc4-c210-4204-9c4e-aff5d8fdff31"
      },
      "execution_count": null,
      "outputs": [
        {
          "output_type": "error",
          "ename": "TypeError",
          "evalue": "EventListener._setup.<locals>.event_trigger() got an unexpected keyword argument '_js'",
          "traceback": [
            "\u001b[0;31m---------------------------------------------------------------------------\u001b[0m",
            "\u001b[0;31mTypeError\u001b[0m                                 Traceback (most recent call last)",
            "\u001b[0;32m<ipython-input-5-8d0c0e798fe7>\u001b[0m in \u001b[0;36m<cell line: 0>\u001b[0;34m()\u001b[0m\n\u001b[1;32m     38\u001b[0m \u001b[0;34m\u001b[0m\u001b[0m\n\u001b[1;32m     39\u001b[0m     \u001b[0mgr\u001b[0m\u001b[0;34m.\u001b[0m\u001b[0mMarkdown\u001b[0m\u001b[0;34m(\u001b[0m\u001b[0;34m\"## 🌓 Toggle Theme Example\"\u001b[0m\u001b[0;34m)\u001b[0m\u001b[0;34m\u001b[0m\u001b[0;34m\u001b[0m\u001b[0m\n\u001b[0;32m---> 40\u001b[0;31m     \u001b[0mgr\u001b[0m\u001b[0;34m.\u001b[0m\u001b[0mButton\u001b[0m\u001b[0;34m(\u001b[0m\u001b[0;34m\"🌙 Toggle Dark Mode\"\u001b[0m\u001b[0;34m,\u001b[0m \u001b[0melem_id\u001b[0m\u001b[0;34m=\u001b[0m\u001b[0;34m\"toggle-btn\"\u001b[0m\u001b[0;34m)\u001b[0m\u001b[0;34m.\u001b[0m\u001b[0mclick\u001b[0m\u001b[0;34m(\u001b[0m\u001b[0;32mNone\u001b[0m\u001b[0;34m,\u001b[0m \u001b[0m_js\u001b[0m\u001b[0;34m=\u001b[0m\u001b[0;34m\"toggleDarkMode\"\u001b[0m\u001b[0;34m)\u001b[0m\u001b[0;34m\u001b[0m\u001b[0;34m\u001b[0m\u001b[0m\n\u001b[0m\u001b[1;32m     41\u001b[0m \u001b[0;34m\u001b[0m\u001b[0m\n\u001b[1;32m     42\u001b[0m     \u001b[0mgr\u001b[0m\u001b[0;34m.\u001b[0m\u001b[0mDropdown\u001b[0m\u001b[0;34m(\u001b[0m\u001b[0;34m[\u001b[0m\u001b[0;34m\"One\"\u001b[0m\u001b[0;34m,\u001b[0m \u001b[0;34m\"Two\"\u001b[0m\u001b[0;34m]\u001b[0m\u001b[0;34m,\u001b[0m \u001b[0mlabel\u001b[0m\u001b[0;34m=\u001b[0m\u001b[0;34m\"Choose Option\"\u001b[0m\u001b[0;34m)\u001b[0m\u001b[0;34m\u001b[0m\u001b[0;34m\u001b[0m\u001b[0m\n",
            "\u001b[0;31mTypeError\u001b[0m: EventListener._setup.<locals>.event_trigger() got an unexpected keyword argument '_js'"
          ]
        }
      ]
    },
    {
      "source": [
        "import gradio as gr\n",
        "\n",
        "with gr.Blocks() as demo:\n",
        "    gr.HTML(\"\"\"\n",
        "    <style id=\"theme-style\">\n",
        "        body {\n",
        "            background-color: #e8f5e9;\n",
        "            color: #000;\n",
        "        }\n",
        "    </style>\n",
        "\n",
        "    <script>\n",
        "        function toggleDarkMode() {\n",
        "            const style = document.getElementById(\"theme-style\");\n",
        "            if (style.innerHTML.includes(\"e8f5e9\")) {\n",
        "                style.innerHTML = `\n",
        "                    body {\n",
        "                        background-color: #121212;\n",
        "                        color: #ffffff;\n",
        "                    }\n",
        "                    label, select, input, textarea, button {\n",
        "                        background-color: #1e1e1e;\n",
        "                        color: #ffffff;\n",
        "                        border-color: #555;\n",
        "                    }\n",
        "                `;\n",
        "            } else {\n",
        "                style.innerHTML = `\n",
        "                    body {\n",
        "                        background-color: #e8f5e9;\n",
        "                        color: #000;\n",
        "                    }\n",
        "                `;\n",
        "            }\n",
        "        }\n",
        "    </script>\n",
        "    \"\"\")\n",
        "\n",
        "    gr.Markdown(\"## 🌓 Toggle Theme Example\")\n",
        "    # Changed _js to js\n",
        "    gr.Button(\"🌙 Toggle Dark Mode\", elem_id=\"toggle-btn\").click(None, js=\"toggleDarkMode\")\n",
        "\n",
        "    gr.Dropdown([\"One\", \"Two\"], label=\"Choose Option\")\n",
        "    gr.Textbox(label=\"Say something\")\n",
        "    gr.Button(\"Submit\")\n",
        "\n",
        "demo.launch()"
      ],
      "cell_type": "code",
      "metadata": {
        "id": "WUDRE7I6WUQP",
        "outputId": "c2ec0cb0-bb2a-4f67-c944-27a8b45ca560",
        "colab": {
          "base_uri": "https://localhost:8080/",
          "height": 645
        }
      },
      "execution_count": null,
      "outputs": [
        {
          "output_type": "stream",
          "name": "stdout",
          "text": [
            "It looks like you are running Gradio on a hosted a Jupyter notebook. For the Gradio app to work, sharing must be enabled. Automatically setting `share=True` (you can turn this off by setting `share=False` in `launch()` explicitly).\n",
            "\n",
            "Colab notebook detected. To show errors in colab notebook, set debug=True in launch()\n",
            "* Running on public URL: https://5be4c502a4b7889a17.gradio.live\n",
            "\n",
            "This share link expires in 1 week. For free permanent hosting and GPU upgrades, run `gradio deploy` from the terminal in the working directory to deploy to Hugging Face Spaces (https://huggingface.co/spaces)\n"
          ]
        },
        {
          "output_type": "display_data",
          "data": {
            "text/plain": [
              "<IPython.core.display.HTML object>"
            ],
            "text/html": [
              "<div><iframe src=\"https://5be4c502a4b7889a17.gradio.live\" width=\"100%\" height=\"500\" allow=\"autoplay; camera; microphone; clipboard-read; clipboard-write;\" frameborder=\"0\" allowfullscreen></iframe></div>"
            ]
          },
          "metadata": {}
        },
        {
          "output_type": "execute_result",
          "data": {
            "text/plain": []
          },
          "metadata": {},
          "execution_count": 6
        }
      ]
    }
  ]
}